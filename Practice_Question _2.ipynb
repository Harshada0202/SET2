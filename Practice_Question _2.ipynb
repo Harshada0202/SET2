{
 "cells": [
  {
   "cell_type": "markdown",
   "metadata": {},
   "source": [
    "# Q1"
   ]
  },
  {
   "cell_type": "code",
   "execution_count": 2,
   "metadata": {},
   "outputs": [
    {
     "name": "stdout",
     "output_type": "stream",
     "text": [
      "['Hello!! my', 'name is', 'harshada Jadhav']\n"
     ]
    }
   ],
   "source": [
    "list1=['Hello!!','name','harshada']\n",
    "list2=[' my',' is',' Jadhav']\n",
    "list3=[]\n",
    "for i in range(len(list1)):\n",
    "    list3.append(list1[i]+list2[i])\n",
    "print(list3)"
   ]
  },
  {
   "cell_type": "markdown",
   "metadata": {},
   "source": [
    "# Q2"
   ]
  },
  {
   "cell_type": "code",
   "execution_count": 12,
   "metadata": {},
   "outputs": [
    {
     "name": "stdout",
     "output_type": "stream",
     "text": [
      "[4, 9, 16, 25, 36, 49, 64]\n"
     ]
    }
   ],
   "source": [
    "import numpy\n",
    "li1=[2,3,4,5,6,7,8]\n",
    "lisq=[]\n",
    "for i in range (len(li1)):\n",
    "    lisq.append(li1[i]**2)\n",
    "print(lisq)\n",
    "\n",
    "    "
   ]
  },
  {
   "cell_type": "markdown",
   "metadata": {},
   "source": [
    "# Q3"
   ]
  },
  {
   "cell_type": "code",
   "execution_count": 23,
   "metadata": {},
   "outputs": [
    {
     "name": "stdout",
     "output_type": "stream",
     "text": [
      "NUMBER     COUNT\n",
      "1           4\n",
      "2           5\n",
      "3           4\n",
      "4           4\n",
      "5           3\n"
     ]
    }
   ],
   "source": [
    "a=[11,2,3,4,5,1,2,3,4,1,2,3,4,3,2,5,1,4,2,5,1]\n",
    "b=a.count(1)\n",
    "c=a.count(2)\n",
    "d=a.count(3)\n",
    "e=a.count(4)\n",
    "f=a.count(5)\n",
    "\n",
    "print(\"NUMBER     COUNT\")\n",
    "print(\"1          \",b)\n",
    "print(\"2          \",c)\n",
    "print(\"3          \",d)\n",
    "print(\"4          \",e)\n",
    "print(\"5          \",f)"
   ]
  },
  {
   "cell_type": "markdown",
   "metadata": {},
   "source": [
    "# Better Solution"
   ]
  },
  {
   "cell_type": "code",
   "execution_count": 5,
   "metadata": {},
   "outputs": [
    {
     "name": "stdout",
     "output_type": "stream",
     "text": [
      "{1: 4, 2: 5, 3: 4, 4: 4, 5: 3, 11: 1}\n"
     ]
    }
   ],
   "source": [
    "a=[11,2,3,4,5,1,2,3,4,1,2,3,4,3,2,5,1,4,2,5,1]\n",
    "element_counter = {}\n",
    "a.sort()\n",
    "# iterate over all the elements which are sorted\n",
    "for x in a:\n",
    "    # check if current element in present in element_counter dictionary as a key\n",
    "    if x not in element_counter:\n",
    "        # if current element is not present in the element_counter dict as key\n",
    "        # set the value as 1 and current element as the key\n",
    "        element_counter[x] = 1\n",
    "    else:\n",
    "        # if current element is present \n",
    "        # then increment the value by 1\n",
    "        element_counter[x] += 1 # this is expression equivalent to --> element_counter = element_counter + 1\n",
    "print(element_counter)"
   ]
  },
  {
   "cell_type": "markdown",
   "metadata": {},
   "source": [
    "# Q4"
   ]
  },
  {
   "cell_type": "code",
   "execution_count": 11,
   "metadata": {},
   "outputs": [
    {
     "name": "stdout",
     "output_type": "stream",
     "text": [
      "NO\n"
     ]
    }
   ],
   "source": [
    "l='my name is harshada'\n",
    "a=[ch for ch in l if (ord(ch) >= ord('a') and ord(ch) <= ord('z'))]\n",
    "s=set(l)\n",
    "if len(s)==len(a):\n",
    "    print('YES')\n",
    "else:\n",
    "    print(\"NO\")"
   ]
  },
  {
   "cell_type": "markdown",
   "metadata": {},
   "source": [
    "nice solution! but you can use some inbuild functions"
   ]
  },
  {
   "cell_type": "markdown",
   "metadata": {},
   "source": [
    "A simple solution "
   ]
  },
  {
   "cell_type": "code",
   "execution_count": 9,
   "metadata": {},
   "outputs": [
    {
     "name": "stdout",
     "output_type": "stream",
     "text": [
      "8 8\n"
     ]
    }
   ],
   "source": [
    "l = \"my name is harshada\"\n",
    "# try to remove space with replace function\n",
    "new_str = l.replace(' ','') #str.replace('string you want to replace','string you want to replace with')\n",
    "unique_chars = set(l)\n",
    "if len(new_str) == len(unique_char):\n",
    "    print('Yes')\n",
    "else:\n",
    "    print('No')\n"
   ]
  },
  {
   "cell_type": "code",
   "execution_count": 15,
   "metadata": {},
   "outputs": [
    {
     "name": "stdout",
     "output_type": "stream",
     "text": [
      "21\n",
      "20\n",
      "NO\n"
     ]
    }
   ],
   "source": [
    "l='the big dwarf only jumps'\n",
    "a=[ch for ch in l if (ord(ch) >= ord('a') and ord(ch) <= ord('z'))]\n",
    "s=set(l)\n",
    "print(len(s))\n",
    "print(len(a))\n",
    "if len(s)==len(a):\n",
    "    print('YES')\n",
    "else:\n",
    "    print(\"NO\")"
   ]
  },
  {
   "cell_type": "code",
   "execution_count": 14,
   "metadata": {},
   "outputs": [
    {
     "name": "stdout",
     "output_type": "stream",
     "text": [
      "10\n",
      "10\n",
      "YES\n"
     ]
    }
   ],
   "source": [
    "l='hey whatsup'\n",
    "a=[ch for ch in l if (ord(ch) >= ord('a') and ord(ch) <= ord('z'))]\n",
    "s=set(l)\n",
    "print(len(s))\n",
    "print(len(a))\n",
    "if len(s)==len(a):\n",
    "    print('YES')\n",
    "else:\n",
    "    print(\"NO\")"
   ]
  }
 ],
 "metadata": {
  "kernelspec": {
   "display_name": "Python 3",
   "language": "python",
   "name": "python3"
  },
  "language_info": {
   "codemirror_mode": {
    "name": "ipython",
    "version": 3
   },
   "file_extension": ".py",
   "mimetype": "text/x-python",
   "name": "python",
   "nbconvert_exporter": "python",
   "pygments_lexer": "ipython3",
   "version": "3.8.10"
  }
 },
 "nbformat": 4,
 "nbformat_minor": 5
}
