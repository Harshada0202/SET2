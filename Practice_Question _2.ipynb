{
 "cells": [
  {
   "cell_type": "markdown",
   "id": "169d7349",
   "metadata": {},
   "source": [
    "# Q1"
   ]
  },
  {
   "cell_type": "code",
   "execution_count": 5,
   "id": "0d93253c",
   "metadata": {},
   "outputs": [
    {
     "name": "stdout",
     "output_type": "stream",
     "text": [
      "['Hello!! my', 'name is', 'harshada Jadhav']\n"
     ]
    }
   ],
   "source": [
    "list1=['Hello!!','name','harshada']\n",
    "list2=[' my',' is',' Jadhav']\n",
    "list3=[]\n",
    "for i in range(len(list1)):\n",
    "    list3.append(list1[i]+list2[i])\n",
    "print(list3)"
   ]
  },
  {
   "cell_type": "markdown",
   "id": "1aa31437",
   "metadata": {},
   "source": [
    "# Q2"
   ]
  },
  {
   "cell_type": "code",
   "execution_count": 12,
   "id": "2c2fe445",
   "metadata": {},
   "outputs": [
    {
     "name": "stdout",
     "output_type": "stream",
     "text": [
      "[4, 9, 16, 25, 36, 49, 64]\n"
     ]
    }
   ],
   "source": [
    "import numpy\n",
    "li1=[2,3,4,5,6,7,8]\n",
    "lisq=[]\n",
    "for i in range (len(li1)):\n",
    "    lisq.append(li1[i]**2)\n",
    "print(lisq)\n",
    "\n",
    "    "
   ]
  },
  {
   "cell_type": "markdown",
   "id": "8a22a043",
   "metadata": {},
   "source": [
    "# Q3"
   ]
  },
  {
   "cell_type": "code",
   "execution_count": 23,
   "id": "5df3c628",
   "metadata": {},
   "outputs": [
    {
     "name": "stdout",
     "output_type": "stream",
     "text": [
      "NUMBER     COUNT\n",
      "1           4\n",
      "2           5\n",
      "3           4\n",
      "4           4\n",
      "5           3\n"
     ]
    }
   ],
   "source": [
    "a=[11,2,3,4,5,1,2,3,4,1,2,3,4,3,2,5,1,4,2,5,1]\n",
    "b=a.count(1)\n",
    "c=a.count(2)\n",
    "d=a.count(3)\n",
    "e=a.count(4)\n",
    "f=a.count(5)\n",
    "\n",
    "print(\"NUMBER     COUNT\")\n",
    "print(\"1          \",b)\n",
    "print(\"2          \",c)\n",
    "print(\"3          \",d)\n",
    "print(\"4          \",e)\n",
    "print(\"5          \",f)"
   ]
  },
  {
   "cell_type": "markdown",
   "id": "ee7f95e4",
   "metadata": {},
   "source": [
    "# Q4"
   ]
  },
  {
   "cell_type": "code",
   "execution_count": 11,
   "id": "2fff1305",
   "metadata": {},
   "outputs": [
    {
     "name": "stdout",
     "output_type": "stream",
     "text": [
      "NO\n"
     ]
    }
   ],
   "source": [
    "l='my name is harshada'\n",
    "a=[ch for ch in l if (ord(ch) >= ord('a') and ord(ch) <= ord('z'))]\n",
    "s=set(l)\n",
    "if len(s)==len(a):\n",
    "    print('YES')\n",
    "else:\n",
    "    print(\"NO\")"
   ]
  },
  {
   "cell_type": "code",
   "execution_count": 15,
   "id": "e865b300",
   "metadata": {},
   "outputs": [
    {
     "name": "stdout",
     "output_type": "stream",
     "text": [
      "21\n",
      "20\n",
      "NO\n"
     ]
    }
   ],
   "source": [
    "l='the big dwarf only jumps'\n",
    "a=[ch for ch in l if (ord(ch) >= ord('a') and ord(ch) <= ord('z'))]\n",
    "s=set(l)\n",
    "print(len(s))\n",
    "print(len(a))\n",
    "if len(s)==len(a):\n",
    "    print('YES')\n",
    "else:\n",
    "    print(\"NO\")"
   ]
  },
  {
   "cell_type": "code",
   "execution_count": 14,
   "id": "96c9bd25",
   "metadata": {},
   "outputs": [
    {
     "name": "stdout",
     "output_type": "stream",
     "text": [
      "10\n",
      "10\n",
      "YES\n"
     ]
    }
   ],
   "source": [
    "l='hey whatsup'\n",
    "a=[ch for ch in l if (ord(ch) >= ord('a') and ord(ch) <= ord('z'))]\n",
    "s=set(l)\n",
    "print(len(s))\n",
    "print(len(a))\n",
    "if len(s)==len(a):\n",
    "    print('YES')\n",
    "else:\n",
    "    print(\"NO\")"
   ]
  }
 ],
 "metadata": {
  "kernelspec": {
   "display_name": "Python 3 (ipykernel)",
   "language": "python",
   "name": "python3"
  },
  "language_info": {
   "codemirror_mode": {
    "name": "ipython",
    "version": 3
   },
   "file_extension": ".py",
   "mimetype": "text/x-python",
   "name": "python",
   "nbconvert_exporter": "python",
   "pygments_lexer": "ipython3",
   "version": "3.9.7"
  }
 },
 "nbformat": 4,
 "nbformat_minor": 5
}
