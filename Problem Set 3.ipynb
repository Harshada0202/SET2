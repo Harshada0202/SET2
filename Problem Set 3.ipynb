{
 "cells": [
  {
   "cell_type": "markdown",
   "id": "da36241e",
   "metadata": {},
   "source": [
    "# Problem Set 3"
   ]
  },
  {
   "cell_type": "markdown",
   "id": "2867098d",
   "metadata": {},
   "source": [
    "# 1)Write a program that asks the user how many Fibonnaci numbers to generate and then generates them. "
   ]
  },
  {
   "cell_type": "code",
   "execution_count": 13,
   "id": "8195fbc9",
   "metadata": {},
   "outputs": [],
   "source": [
    "def fib(n):\n",
    "    a = 0\n",
    "    b = 1\n",
    "    if n == 1:\n",
    "        print(a)\n",
    "    else:\n",
    "        print(a)\n",
    "        print(b)\n",
    "        for i in range(2,n):\n",
    "            c = a + b\n",
    "            a = b\n",
    "            b = c\n",
    "            print(c)\n",
    "\n"
   ]
  },
  {
   "cell_type": "code",
   "execution_count": 14,
   "id": "57fd6d3b",
   "metadata": {},
   "outputs": [
    {
     "name": "stdout",
     "output_type": "stream",
     "text": [
      "0\n",
      "1\n",
      "1\n",
      "2\n",
      "3\n",
      "5\n",
      "8\n",
      "13\n",
      "21\n",
      "34\n"
     ]
    }
   ],
   "source": [
    "fib(10)"
   ]
  },
  {
   "cell_type": "markdown",
   "id": "c855bb33",
   "metadata": {},
   "source": [
    "# 2)Python program to display the given integer in reverse manner.\n"
   ]
  },
  {
   "cell_type": "code",
   "execution_count": 4,
   "id": "f2a296f5",
   "metadata": {},
   "outputs": [
    {
     "name": "stdout",
     "output_type": "stream",
     "text": [
      "Enter any number: 456\n",
      "Reverse of number is: 654\n"
     ]
    }
   ],
   "source": [
    "n = int(input(\"Enter any number: \"))\n",
    "rev = 0\n",
    "while (n!=0):\n",
    "    x = n%10\n",
    "    rev=rev*10+x\n",
    "    n//=10\n",
    "print(\"Reverse of number is:\",rev)"
   ]
  },
  {
   "cell_type": "markdown",
   "id": "0b5dc6b4",
   "metadata": {},
   "source": [
    "# 3)Write a python function to check whether the given integer is a prime number or not\n",
    "\n"
   ]
  },
  {
   "cell_type": "code",
   "execution_count": 1,
   "id": "b74cac64",
   "metadata": {},
   "outputs": [],
   "source": [
    "def prime(n):\n",
    "    if (n==1):              # 1 is neither prime nor composite number\n",
    "        return False\n",
    "    elif (n==2):            # 2 is only even prime number\n",
    "        return True;\n",
    "    else:\n",
    "        for i in range(2,n):     \n",
    "            if(n % i==0):\n",
    "                return False\n",
    "        return True             "
   ]
  },
  {
   "cell_type": "code",
   "execution_count": 2,
   "id": "8e6668f7",
   "metadata": {},
   "outputs": [
    {
     "data": {
      "text/plain": [
       "False"
      ]
     },
     "execution_count": 2,
     "metadata": {},
     "output_type": "execute_result"
    }
   ],
   "source": [
    "prime(10)"
   ]
  },
  {
   "cell_type": "code",
   "execution_count": 3,
   "id": "41a7443c",
   "metadata": {},
   "outputs": [
    {
     "data": {
      "text/plain": [
       "True"
      ]
     },
     "execution_count": 3,
     "metadata": {},
     "output_type": "execute_result"
    }
   ],
   "source": [
    "prime(11)"
   ]
  },
  {
   "cell_type": "markdown",
   "id": "14c2266d",
   "metadata": {},
   "source": [
    "# 4)Write a program to check if the given number is a palindrome number."
   ]
  },
  {
   "cell_type": "code",
   "execution_count": 12,
   "id": "f376046c",
   "metadata": {},
   "outputs": [
    {
     "name": "stdout",
     "output_type": "stream",
     "text": [
      "Enter any number: 234\n",
      "The number is not a palindrome.\n"
     ]
    }
   ],
   "source": [
    "n = int(input(\"Enter any number: \"))\n",
    "rev = 0\n",
    "\n",
    "while(n>0):\n",
    "    x = n%10\n",
    "    rev=rev*10+x            # Reversing the number\n",
    "    n//=10\n",
    "if(rev==n):               # Checking the condition of palindrome\n",
    "    print(\"The number is a palindrome.\")\n",
    "else:\n",
    "    print(\"The number is not a palindrome.\")"
   ]
  },
  {
   "cell_type": "code",
   "execution_count": null,
   "id": "bedae90b",
   "metadata": {},
   "outputs": [],
   "source": []
  }
 ],
 "metadata": {
  "kernelspec": {
   "display_name": "Python 3 (ipykernel)",
   "language": "python",
   "name": "python3"
  },
  "language_info": {
   "codemirror_mode": {
    "name": "ipython",
    "version": 3
   },
   "file_extension": ".py",
   "mimetype": "text/x-python",
   "name": "python",
   "nbconvert_exporter": "python",
   "pygments_lexer": "ipython3",
   "version": "3.9.7"
  }
 },
 "nbformat": 4,
 "nbformat_minor": 5
}
